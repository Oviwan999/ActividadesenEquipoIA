{
 "nbformat": 4,
 "nbformat_minor": 0,
 "metadata": {
  "colab": {
   "provenance": [],
   "collapsed_sections": []
  },
  "kernelspec": {
   "display_name": "Python 3",
   "name": "python3"
  }
 },
 "cells": [
  {
   "cell_type": "markdown",
   "source": [
    "#**Maestría en Inteligencia Artificial Aplicada**\n",
    "##**Curso: Inteligencia Artificial y Aprendizaje Automático**\n",
    "###Tecnológico de Monterrey\n",
    "###Prof Luis Eduardo Falcón Morales\n",
    "\n",
    "## **Adtividad de la Semana 7**\n",
    "###**Red Neuronal Artificial - Perceptrón Multicapa : Multilayer Perceptrón (MLP)**\n"
   ],
   "metadata": {
    "id": "VFj0sSM06dYa"
   }
  },
  {
   "cell_type": "markdown",
   "source": [
    "**Nombres y matrículas de los integrantes del equipo:**\n",
    "\n",
    "*   Rodrigo Rodriguez Rodriguez A01183284\n",
    "*   Christian Emilio Saldana Lopez A00506509\n",
    "*   Irvin Gomez Esquivel A00361034\n",
    "*   Erick Najera Olivero A01793506"
   ],
   "metadata": {
    "id": "Qgrvy0RGB9XI"
   }
  },
  {
   "cell_type": "markdown",
   "source": [
    "En cada sección deberás incluir todas las líneas de código necesarias para responder a cada uno de los ejercicios."
   ],
   "metadata": {
    "id": "FrJ2ahMODVj1"
   }
  },
  {
   "cell_type": "code",
   "source": [
    "# Incluye aquí todos módulos, librerías y paquetes que requieras.\n",
    "import pandas as pd\n",
    "import numpy as np\n",
    "import matplotlib.pyplot as plt\n",
    "import seaborn as sns\n",
    "from sklearn.datasets import make_classification\n",
    "from sklearn.model_selection import train_test_split\n",
    "from sklearn.linear_model import LogisticRegression\n",
    "from sklearn.metrics import confusion_matrix\n",
    "from sklearn.metrics import recall_score\n",
    "from sklearn.tree import DecisionTreeClassifier\n",
    "from sklearn.ensemble import RandomForestClassifier\n",
    "from sklearn.linear_model import LinearRegression, Lasso, Ridge, ElasticNet\n",
    "from sklearn.pipeline import Pipeline\n",
    "from sklearn.compose import ColumnTransformer\n",
    "from sklearn.metrics import classification_report, make_scorer\n",
    "from imblearn.metrics import geometric_mean_score, classification_report_imbalanced\n",
    "from sklearn.model_selection import  cross_validate,  RepeatedStratifiedKFold\n",
    "from sklearn.impute import SimpleImputer\n",
    "from sklearn.preprocessing import MinMaxScaler, OneHotEncoder\n",
    "from sklearn.model_selection import cross_val_score\n",
    "from sklearn.model_selection import RepeatedStratifiedKFold\n",
    "from sklearn.neural_network import MLPClassifier\n",
    "from sklearn.neighbors import KNeighborsClassifier\n",
    "from sklearn.svm import SVC\n",
    "from sklearn.model_selection import learning_curve, validation_curve\n",
    "from sklearn.model_selection import GridSearchCV\n",
    "from sklearn.dummy import DummyClassifier \n",
    "from sklearn.inspection import permutation_importance\n",
    "\n",
    "# modelos\n",
    "from sklearn.neural_network import MLPRegressor\n",
    "from sklearn.datasets import make_regression\n",
    "from sklearn.metrics import mean_squared_error, mean_absolute_percentage_error\n",
    "\n",
    "from sklearn import tree\n",
    "import pydotplus\n",
    "from IPython.display import Image\n",
    "import graphviz\n",
    "from sklearn.model_selection import RepeatedKFold"
   ],
   "metadata": {
    "id": "exXsscs-Dh-2",
    "executionInfo": {
     "status": "ok",
     "timestamp": 1666844628991,
     "user_tz": 300,
     "elapsed": 156,
     "user": {
      "displayName": "Chris S",
      "userId": "13607368405853157489"
     }
    }
   },
   "execution_count": 21,
   "outputs": []
  },
  {
   "cell_type": "code",
   "source": [
    "path=\"dataset_Facebook.csv\"\n",
    "df= pd.read_csv(path,sep=\";\")"
   ],
   "metadata": {
    "colab": {
     "base_uri": "https://localhost:8080/"
    },
    "id": "ZH-1SdZCPPl1",
    "executionInfo": {
     "status": "ok",
     "timestamp": 1666837416687,
     "user_tz": 300,
     "elapsed": 951,
     "user": {
      "displayName": "Chris S",
      "userId": "13607368405853157489"
     }
    },
    "outputId": "c9bb3ca1-a1e2-4ccb-dde8-c5a3cf4cf625"
   },
   "execution_count": 22,
   "outputs": []
  },
  {
   "cell_type": "markdown",
   "metadata": {
    "id": "X25brD-gQdZM"
   },
   "source": [
    "#**Ejercicio-1.** "
   ]
  },
  {
   "cell_type": "code",
   "source": [
    "df.rename(columns={'Lifetime People who have liked your Page and engaged with your post':\"LPE\"}, inplace=True)\n",
    "df.head()\n"
   ],
   "metadata": {
    "id": "3nU2GuWYCy6C",
    "colab": {
     "base_uri": "https://localhost:8080/",
     "height": 374
    },
    "executionInfo": {
     "status": "ok",
     "timestamp": 1666837501535,
     "user_tz": 300,
     "elapsed": 174,
     "user": {
      "displayName": "Chris S",
      "userId": "13607368405853157489"
     }
    },
    "outputId": "81ee0c5c-2a5d-4179-efec-72fa861b162c"
   },
   "execution_count": 23,
   "outputs": [
    {
     "data": {
      "text/plain": "   Page total likes    Type  Category  Post Month  Post Weekday  Post Hour  \\\n0            139441   Photo         2          12             4          3   \n1            139441  Status         2          12             3         10   \n2            139441   Photo         3          12             3          3   \n3            139441   Photo         2          12             2         10   \n4            139441   Photo         2          12             2          3   \n\n   Paid  Lifetime Post Total Reach  Lifetime Post Total Impressions  \\\n0   0.0                       2752                             5091   \n1   0.0                      10460                            19057   \n2   0.0                       2413                             4373   \n3   1.0                      50128                            87991   \n4   0.0                       7244                            13594   \n\n   Lifetime Engaged Users  Lifetime Post Consumers  \\\n0                     178                      109   \n1                    1457                     1361   \n2                     177                      113   \n3                    2211                      790   \n4                     671                      410   \n\n   Lifetime Post Consumptions  \\\n0                         159   \n1                        1674   \n2                         154   \n3                        1119   \n4                         580   \n\n   Lifetime Post Impressions by people who have liked your Page  \\\n0                                               3078              \n1                                              11710              \n2                                               2812              \n3                                              61027              \n4                                               6228              \n\n   Lifetime Post reach by people who like your Page   LPE  comment    like  \\\n0                                              1640   119        4    79.0   \n1                                              6112  1108        5   130.0   \n2                                              1503   132        0    66.0   \n3                                             32048  1386       58  1572.0   \n4                                              3200   396       19   325.0   \n\n   share  Total Interactions  \n0   17.0                 100  \n1   29.0                 164  \n2   14.0                  80  \n3  147.0                1777  \n4   49.0                 393  ",
      "text/html": "<div>\n<style scoped>\n    .dataframe tbody tr th:only-of-type {\n        vertical-align: middle;\n    }\n\n    .dataframe tbody tr th {\n        vertical-align: top;\n    }\n\n    .dataframe thead th {\n        text-align: right;\n    }\n</style>\n<table border=\"1\" class=\"dataframe\">\n  <thead>\n    <tr style=\"text-align: right;\">\n      <th></th>\n      <th>Page total likes</th>\n      <th>Type</th>\n      <th>Category</th>\n      <th>Post Month</th>\n      <th>Post Weekday</th>\n      <th>Post Hour</th>\n      <th>Paid</th>\n      <th>Lifetime Post Total Reach</th>\n      <th>Lifetime Post Total Impressions</th>\n      <th>Lifetime Engaged Users</th>\n      <th>Lifetime Post Consumers</th>\n      <th>Lifetime Post Consumptions</th>\n      <th>Lifetime Post Impressions by people who have liked your Page</th>\n      <th>Lifetime Post reach by people who like your Page</th>\n      <th>LPE</th>\n      <th>comment</th>\n      <th>like</th>\n      <th>share</th>\n      <th>Total Interactions</th>\n    </tr>\n  </thead>\n  <tbody>\n    <tr>\n      <th>0</th>\n      <td>139441</td>\n      <td>Photo</td>\n      <td>2</td>\n      <td>12</td>\n      <td>4</td>\n      <td>3</td>\n      <td>0.0</td>\n      <td>2752</td>\n      <td>5091</td>\n      <td>178</td>\n      <td>109</td>\n      <td>159</td>\n      <td>3078</td>\n      <td>1640</td>\n      <td>119</td>\n      <td>4</td>\n      <td>79.0</td>\n      <td>17.0</td>\n      <td>100</td>\n    </tr>\n    <tr>\n      <th>1</th>\n      <td>139441</td>\n      <td>Status</td>\n      <td>2</td>\n      <td>12</td>\n      <td>3</td>\n      <td>10</td>\n      <td>0.0</td>\n      <td>10460</td>\n      <td>19057</td>\n      <td>1457</td>\n      <td>1361</td>\n      <td>1674</td>\n      <td>11710</td>\n      <td>6112</td>\n      <td>1108</td>\n      <td>5</td>\n      <td>130.0</td>\n      <td>29.0</td>\n      <td>164</td>\n    </tr>\n    <tr>\n      <th>2</th>\n      <td>139441</td>\n      <td>Photo</td>\n      <td>3</td>\n      <td>12</td>\n      <td>3</td>\n      <td>3</td>\n      <td>0.0</td>\n      <td>2413</td>\n      <td>4373</td>\n      <td>177</td>\n      <td>113</td>\n      <td>154</td>\n      <td>2812</td>\n      <td>1503</td>\n      <td>132</td>\n      <td>0</td>\n      <td>66.0</td>\n      <td>14.0</td>\n      <td>80</td>\n    </tr>\n    <tr>\n      <th>3</th>\n      <td>139441</td>\n      <td>Photo</td>\n      <td>2</td>\n      <td>12</td>\n      <td>2</td>\n      <td>10</td>\n      <td>1.0</td>\n      <td>50128</td>\n      <td>87991</td>\n      <td>2211</td>\n      <td>790</td>\n      <td>1119</td>\n      <td>61027</td>\n      <td>32048</td>\n      <td>1386</td>\n      <td>58</td>\n      <td>1572.0</td>\n      <td>147.0</td>\n      <td>1777</td>\n    </tr>\n    <tr>\n      <th>4</th>\n      <td>139441</td>\n      <td>Photo</td>\n      <td>2</td>\n      <td>12</td>\n      <td>2</td>\n      <td>3</td>\n      <td>0.0</td>\n      <td>7244</td>\n      <td>13594</td>\n      <td>671</td>\n      <td>410</td>\n      <td>580</td>\n      <td>6228</td>\n      <td>3200</td>\n      <td>396</td>\n      <td>19</td>\n      <td>325.0</td>\n      <td>49.0</td>\n      <td>393</td>\n    </tr>\n  </tbody>\n</table>\n</div>"
     },
     "execution_count": 23,
     "metadata": {},
     "output_type": "execute_result"
    }
   ]
  },
  {
   "cell_type": "code",
   "source": [
    "X = df.iloc[:,:7]\n",
    "y = df.LPE\n",
    "print(X.shape)\n",
    "print(y.shape)"
   ],
   "metadata": {
    "id": "0ulkqXVGCy97",
    "colab": {
     "base_uri": "https://localhost:8080/"
    },
    "executionInfo": {
     "status": "ok",
     "timestamp": 1666837853261,
     "user_tz": 300,
     "elapsed": 3,
     "user": {
      "displayName": "Chris S",
      "userId": "13607368405853157489"
     }
    },
    "outputId": "077dd92d-9b78-4287-ac7c-276082543db6"
   },
   "execution_count": 24,
   "outputs": [
    {
     "name": "stdout",
     "output_type": "stream",
     "text": [
      "(500, 7)\n",
      "(500,)\n"
     ]
    }
   ]
  },
  {
   "cell_type": "markdown",
   "source": [
    "#**Ejercicio-2.**"
   ],
   "metadata": {
    "id": "xZhr2hkECzVv"
   }
  },
  {
   "cell_type": "code",
   "source": [
    "X_prueba, X_eval, y_prueba, y_eval = train_test_split(X,y, train_size = .2)\n",
    "print(X_prueba.shape)"
   ],
   "metadata": {
    "id": "kGfAoOPkC1PP",
    "colab": {
     "base_uri": "https://localhost:8080/"
    },
    "executionInfo": {
     "status": "ok",
     "timestamp": 1666838055673,
     "user_tz": 300,
     "elapsed": 166,
     "user": {
      "displayName": "Chris S",
      "userId": "13607368405853157489"
     }
    },
    "outputId": "7c2932ea-b18b-4f60-f6f6-1f67d4028c54"
   },
   "execution_count": 25,
   "outputs": [
    {
     "name": "stdout",
     "output_type": "stream",
     "text": [
      "(100, 7)\n"
     ]
    }
   ]
  },
  {
   "cell_type": "code",
   "source": [
    "X.columns"
   ],
   "metadata": {
    "id": "GOydw5OGC1MJ",
    "colab": {
     "base_uri": "https://localhost:8080/"
    },
    "executionInfo": {
     "status": "ok",
     "timestamp": 1666838638722,
     "user_tz": 300,
     "elapsed": 2,
     "user": {
      "displayName": "Chris S",
      "userId": "13607368405853157489"
     }
    },
    "outputId": "1b2cd73a-1138-4edb-c33c-ea5d03c02ce7"
   },
   "execution_count": 26,
   "outputs": [
    {
     "data": {
      "text/plain": "Index(['Page total likes', 'Type', 'Category', 'Post Month', 'Post Weekday',\n       'Post Hour', 'Paid'],\n      dtype='object')"
     },
     "execution_count": 26,
     "metadata": {},
     "output_type": "execute_result"
    }
   ]
  },
  {
   "cell_type": "markdown",
   "source": [
    "#**Ejercicio-3.**"
   ],
   "metadata": {
    "id": "NCunuooTC2W3"
   }
  },
  {
   "cell_type": "code",
   "source": [
    "# Incluye aquí las líneas de código que definan a la función: mi_RMSE:\n",
    "def mi_RMSE(actual, predicted):  \n",
    "  return np.mean((actual-predicted)**2) ** (1/2)\n",
    "\n",
    "# Incluye aquí las líneas de código que definan a la función: mi_MAE:\n",
    "def mi_MAE(actual, predicted):\n",
    "  return np.mean(np.abs(actual - predicted))  \n",
    "\n",
    "# Incluye aquí las líneas de código que definan a la función: mi_MAPE:\n",
    "def mi_MAPE(actual, predicted):\n",
    "  return np.mean(np.abs((actual - predicted) / actual)) * 100"
   ],
   "metadata": {
    "id": "YXlcSWA-C4Dj",
    "executionInfo": {
     "status": "ok",
     "timestamp": 1666838102811,
     "user_tz": 300,
     "elapsed": 156,
     "user": {
      "displayName": "Chris S",
      "userId": "13607368405853157489"
     }
    }
   },
   "execution_count": 27,
   "outputs": []
  },
  {
   "cell_type": "code",
   "source": [],
   "metadata": {
    "id": "BKI80-YdC4HN"
   },
   "execution_count": 27,
   "outputs": []
  },
  {
   "cell_type": "markdown",
   "source": [
    "#**Ejercicio-4.**"
   ],
   "metadata": {
    "id": "chqk9jIDC5Pq"
   }
  },
  {
   "cell_type": "markdown",
   "source": [
    "# Descripcion de las variables\n",
    "- Category es variable categorica.\n",
    "- Page total likes es cuantiativo.\n",
    "- Type es categorico.\n",
    "- Post month es dato ordinal.\n",
    "- Post hour es dato ordinal.\n",
    "- Post weekday es dato ordinal.\n",
    "- Paid es dato binario."
   ],
   "metadata": {
    "id": "Wz7ruevETUzC"
   }
  },
  {
   "cell_type": "code",
   "source": [
    "# Transformaciones a factores numéricos de entrada:Quantitativas\n",
    "#Identificamos las columnas (amount, duration, age)\n",
    "num_pipeline = Pipeline(steps = [('impMediana', SimpleImputer(strategy='median')),\n",
    "                                 ('escalaNum', MinMaxScaler(feature_range=(1,2)))]) \n",
    "num_pipeline_nombres = ['Page total likes'] \n",
    "#Identificamos las variables categorias y binarias y aplicamos transformación OneHotE\n",
    "catOHE_pipeline = Pipeline(steps = [('OneHotE', OneHotEncoder(drop='first',handle_unknown='ignore'))])\n",
    "catOHE_pipeline_nombres = ['Type', 'Category', 'Paid']\n",
    "\n",
    "# Conjuntamos las transformaciones numéricas y categóricas que se estarán aplicando a los datos de entrada:\n",
    "cT= ColumnTransformer(transformers = [\n",
    "    ('numpipe', num_pipeline, num_pipeline_nombres),('catohe', catOHE_pipeline, catOHE_pipeline_nombres)],remainder='passthrough')"
   ],
   "metadata": {
    "id": "RBVSFwK4C6g9",
    "executionInfo": {
     "status": "ok",
     "timestamp": 1666838839975,
     "user_tz": 300,
     "elapsed": 156,
     "user": {
      "displayName": "Chris S",
      "userId": "13607368405853157489"
     }
    }
   },
   "execution_count": 28,
   "outputs": []
  },
  {
   "cell_type": "code",
   "source": [],
   "metadata": {
    "id": "7KXnlNzAC69Y"
   },
   "execution_count": 28,
   "outputs": []
  },
  {
   "cell_type": "markdown",
   "source": [
    "#**Ejercicio-5.**"
   ],
   "metadata": {
    "id": "Rv7KFq-mC7PS"
   }
  },
  {
   "cell_type": "code",
   "execution_count": 29,
   "outputs": [],
   "source": [
    "X_train, X_val, y_train, y_val = train_test_split(X_eval , y_eval, train_size=0.75)\n",
    "modeloDummy = DummyClassifier(strategy='uniform')\n",
    "\n",
    "modeloDummy.fit(X_train, y_train)\n",
    "yhat = modeloDummy.predict(X_val)\n",
    "yhat2= modeloDummy.predict(X_train)"
   ],
   "metadata": {
    "collapsed": false
   }
  },
  {
   "cell_type": "code",
   "execution_count": 30,
   "outputs": [
    {
     "name": "stdout",
     "output_type": "stream",
     "text": [
      "[1564  760  327  493  985  187  475 1716  407  998    9  428  398  420\n",
      "  740  100  291  697  469  469 1568 1716  646 2806  453  416  642 2119\n",
      "  167  742  347 2126  569  677  487  760  677  346   77  132  557  348\n",
      "  774  351  101  157 3798  275  100  737 2099  355  398  327  487  240\n",
      "   15  476  493  175  167  183  465  462  420  557  384 2806  407  407\n",
      " 2252  740 2119 1568  278  246 2602  268  191  402 1905  590  328  453\n",
      "  462  537 1395  211  143  657  167  975  384  269  606 3798 4376  465\n",
      "  422 2126]\n",
      "[ 280  314 1609  246  401  559  646 1975  173  347  137  536  240  843\n",
      "  683  367  537  465 1292  222  476  126 4376  506  355  470  885  487\n",
      " 2126  297  408  423  516  760 1162  843  392  583  546  477  221  342\n",
      "  593  348  843  814  865  642   92  708  516   93  183  636 1292  185\n",
      "  420   93  389 1233  167  217   92 1609  221  217  175 2602  403  247\n",
      " 2806  230  240 1661  489  173   17  283  280  293  361  283  722  335\n",
      " 2099  269  489  516  376  475  230  222  132  266 2099  194  253  662\n",
      " 2119  436 1353  370  355  465  240 1016  559 1354  166  184  575  297\n",
      "  126  266  575  297  119  220  101  389 1661  259  401  348 2119  593\n",
      "  222  475  191  322  138  307  423  635 1233  413  247  628  583  404\n",
      "  762  514  559  497  205 2126   59  340 2126  453  408  490  166  762\n",
      "  143  322  161  488  140  187  708  156  191  477  173  248  683  152\n",
      "  397   99 1233  173  423 1162  505  483  490  402 1292  184  488  327\n",
      "   77 1578  646  907 2256  475  157    9  323  187  132  230  355  451\n",
      "  477  505  360   19  981  291  466  392  460  379  161  344  593  266\n",
      "  492  420   17  569  462  493  683  404  429 2278  375  460 1233  166\n",
      "  497    9  757  199  453  460  335  708  530  360 1564  590  628  361\n",
      "  156  497  483  187  297  375  497  306  287  143  101 1278  361  506\n",
      "  173  998  642 4376  636  382   99  487 2099  662  701  453  732  152\n",
      "  404  514  488  152   59  407   93  459  269  355  402  287  143  422\n",
      "  222  487  152 1831  477  492  360  267  363  590  760 1564  469  138\n",
      "  349  175  563 2099  316 3430]\n"
     ]
    }
   ],
   "source": [
    "print(yhat)\n",
    "print(yhat2)"
   ],
   "metadata": {
    "collapsed": false
   }
  },
  {
   "cell_type": "code",
   "source": [
    "\n",
    "\n",
    "\n",
    "valor_RMSE = mi_RMSE(y_val,yhat)\n",
    "valor_MAE = mi_MAE(y_val,yhat)\n",
    "valor_MAPE = mi_MAPE(y_val,yhat)\n",
    "\n",
    "valor_RMSE_train = mi_RMSE(y_train,yhat2)\n",
    "valor_MAE_train = mi_MAE(y_train,yhat2)\n",
    "valor_MAPE_train = mi_MAPE(y_train,yhat2)\n",
    "\n",
    "print(\"Evaluation\")\n",
    "\n",
    "print(\"RRMSE\",valor_RMSE)\n",
    "print(\"MAE\",valor_MAE)\n",
    "print(\"MAPE\",valor_MAPE)\n",
    "print(\"Training\")\n",
    "print(\"RMSE\",valor_RMSE)\n",
    "print(\"MAE\",valor_MAE)\n",
    "print(\"MAPE\",valor_MAPE)\n"
   ],
   "metadata": {
    "id": "jaDj3kawC9B6",
    "executionInfo": {
     "status": "ok",
     "timestamp": 1666839645140,
     "user_tz": 300,
     "elapsed": 185,
     "user": {
      "displayName": "Chris S",
      "userId": "13607368405853157489"
     }
    }
   },
   "execution_count": 31,
   "outputs": [
    {
     "name": "stdout",
     "output_type": "stream",
     "text": [
      "Evaluation\n",
      "RRMSE 1053.9858253316313\n",
      "MAE 654.96\n",
      "MAPE 182.1711294344772\n",
      "Training\n",
      "RMSE 1053.9858253316313\n",
      "MAE 654.96\n",
      "MAPE 182.1711294344772\n"
     ]
    }
   ]
  },
  {
   "cell_type": "markdown",
   "source": [
    "#**Ejercicio-6.**"
   ],
   "metadata": {
    "id": "W2S7LI0NC9wE"
   }
  },
  {
   "cell_type": "code",
   "source": [
    "def get_model():\n",
    "  modelado, nombres = list(), list()\n",
    "  # LR - Regresión lineal multiple:\n",
    "  modelado.append(LinearRegression())\n",
    "  nombres.append('LR')\n",
    "  #Bosque Aleatorio\n",
    "  modelado.append(RandomForestClassifier())\n",
    "  nombres.append('RW')\n",
    "  # perceptrón multicapa\n",
    "  modelado.append(MLPRegressor(max_iter=5000,learning_rate_init=0.1))\n",
    "  nombres.append('MLP')\n",
    "  return modelado, nombres\n",
    "  modelos, nombres = get_model()\n",
    "  print(modelos)\n",
    "  print(nombres)"
   ],
   "metadata": {
    "id": "x6uBleJUC_AU",
    "executionInfo": {
     "status": "ok",
     "timestamp": 1666842131684,
     "user_tz": 300,
     "elapsed": 153,
     "user": {
      "displayName": "Chris S",
      "userId": "13607368405853157489"
     }
    }
   },
   "execution_count": 32,
   "outputs": []
  },
  {
   "cell_type": "code",
   "source": [
    "modelos, nombres = get_model()\n",
    "resultados=list()\n",
    "for i in range(len(modelos)):  # para realizar entrenamiento en forma conjunta\n",
    "    pipeline = Pipeline(steps=[('CT',cT),('M',modelos[i])])\n",
    "    Kfold = RepeatedKFold(n_splits=3, n_repeats=6,random_state=11)\n",
    "\n",
    "# se crea el diccionario con las metricas a utilizar\n",
    "    Scores = {'mi_rmse':make_scorer(mi_RMSE), 'mi_mae':make_scorer(mi_MAE), 'mi_mape':make_scorer(mi_MAPE)}\n",
    "\n",
    "# Se realiza la validacion cruzada\n",
    "    scoresSin = cross_validate(pipeline,\n",
    "                          X_train, np.ravel(y_train),\n",
    "                          scoring=Scores,\n",
    "                          cv=Kfold,\n",
    "                          return_train_score=True)\n",
    "    resultados.append(scoresSin)\n",
    "\n",
    "    print(\"Para los datos de test\")\n",
    "    print('%s:\\nmean mi_RMSE: %.3f (%.4f)\\n mean mi_mae: %.3f (%.4f)\\n mi_mape: %.3f (%.4f)\\n' % (nombres[i],\n",
    "                                                                          np.mean(scoresSin['test_mi_rmse']),\n",
    "                                                                          np.std(scoresSin['test_mi_rmse']),\n",
    "                                                                          np.mean(scoresSin['test_mi_mae']),\n",
    "                                                                          np.std(scoresSin['test_mi_mae']),\n",
    "                                                                          np.mean(scoresSin['test_mi_mape']),\n",
    "                                                                          np.std(scoresSin['test_mi_mape'])\n",
    "                                                                          ))\n",
    "    print(\"Para los datos de train\")\n",
    "    print('%s:\\nmean mi_RMSE: %.3f (%.4f)\\nmean mi_mae: %.3f (%.4f)\\nmean mi_mape: %.3f (%.4f)\\n' % (nombres[i],\n",
    "                                                                          np.mean(scoresSin['train_mi_rmse']),\n",
    "                                                                          np.std(scoresSin['train_mi_rmse']),\n",
    "                                                                          np.mean(scoresSin['train_mi_mae']),\n",
    "                                                                          np.std(scoresSin['train_mi_mae']),\n",
    "                                                                          np.mean(scoresSin['train_mi_mape']),\n",
    "                                                                          np.std(scoresSin['train_mi_mape'])\n",
    "                                                                          ),\"\\n\\n\")"
   ],
   "metadata": {
    "id": "n0P_AcyjC_Dh",
    "colab": {
     "base_uri": "https://localhost:8080/"
    },
    "executionInfo": {
     "status": "ok",
     "timestamp": 1666842196403,
     "user_tz": 300,
     "elapsed": 63010,
     "user": {
      "displayName": "Chris S",
      "userId": "13607368405853157489"
     }
    },
    "outputId": "9ede021a-1d46-46a5-a5af-2c6f566d2c3c"
   },
   "execution_count": 34,
   "outputs": [
    {
     "name": "stdout",
     "output_type": "stream",
     "text": [
      "Para los datos de test\n",
      "LR:\n",
      "mean mi_RMSE: 541.225 (66.2951)\n",
      " mean mi_mae: 312.828 (23.8806)\n",
      " mi_mape: 125.096 (39.3387)\n",
      "\n",
      "Para los datos de train\n",
      "LR:\n",
      "mean mi_RMSE: 504.489 (31.0532)\n",
      "mean mi_mae: 292.553 (15.7089)\n",
      "mean mi_mape: 117.074 (20.7887)\n",
      " \n",
      "\n",
      "\n",
      "Para los datos de test\n",
      "RW:\n",
      "mean mi_RMSE: 765.416 (102.4890)\n",
      " mean mi_mae: 421.452 (59.8134)\n",
      " mi_mape: 122.392 (41.7599)\n",
      "\n",
      "Para los datos de train\n",
      "RW:\n",
      "mean mi_RMSE: 9.756 (7.5270)\n",
      "mean mi_mae: 0.739 (0.6080)\n",
      "mean mi_mape: 0.252 (0.2730)\n",
      " \n",
      "\n",
      "\n",
      "Para los datos de test\n",
      "MLP:\n",
      "mean mi_RMSE: 649.490 (131.8053)\n",
      " mean mi_mae: 378.862 (51.1634)\n",
      " mi_mape: 141.902 (48.9622)\n",
      "\n",
      "Para los datos de train\n",
      "MLP:\n",
      "mean mi_RMSE: 424.583 (66.2538)\n",
      "mean mi_mae: 255.904 (34.6148)\n",
      "mean mi_mape: 101.213 (19.9508)\n",
      " \n",
      "\n",
      "\n"
     ]
    }
   ]
  },
  {
   "cell_type": "markdown",
   "source": [
    "#**Ejercicio-7.**"
   ],
   "metadata": {
    "id": "iCNGx4TQ8CFI"
   }
  },
  {
   "cell_type": "code",
   "source": [
    "#Diagrama de cajas y bigotes para los 3 modelos con la metrica Recall\n",
    "sns.set(rc={'figure.figsize':(8,4)})\n",
    "bpGmean = list()\n",
    "for i in range(len(resultados)):\n",
    "  rr = resultados[i]['test_mi_mape']\n",
    "  bpGmean.append(rr)\n",
    "\n",
    "plt.boxplot(bpGmean, labels=nombres, showmeans=True)\n",
    "plt.show()"
   ],
   "metadata": {
    "id": "ewvwUcJX78y1",
    "colab": {
     "base_uri": "https://localhost:8080/",
     "height": 268
    },
    "executionInfo": {
     "status": "ok",
     "timestamp": 1666842351132,
     "user_tz": 300,
     "elapsed": 514,
     "user": {
      "displayName": "Chris S",
      "userId": "13607368405853157489"
     }
    },
    "outputId": "2f334035-498a-499a-c4ab-7a0322c9f701"
   },
   "execution_count": 35,
   "outputs": [
    {
     "data": {
      "text/plain": "<Figure size 800x400 with 1 Axes>",
      "image/png": "[encoded data removed]"
     },
     "metadata": {},
     "output_type": "display_data"
    }
   ]
  },
  {
   "cell_type": "code",
   "source": [],
   "metadata": {
    "id": "F1aW0dQX8BLL"
   },
   "execution_count": 35,
   "outputs": []
  },
  {
   "cell_type": "markdown",
   "source": [
    "#**Ejercicio-8.**"
   ],
   "metadata": {
    "id": "tzQn5NR78GFg"
   }
  },
  {
   "cell_type": "code",
   "source": [
    "#Función do_grid_search para realizar la busqueda de los mejores hiperparametros para cada uno de los modelos\n",
    "def do_grid_search(model, X, y, cv, dicc_grid, scoring = 'accuracy'):\n",
    "    \n",
    "    grid_pipe = Pipeline(steps = [\n",
    "        ('Correlation', cT),\n",
    "        ('model', model)\n",
    "        ])\n",
    "\n",
    "    #Creamos el grid\n",
    "    grid = GridSearchCV(\n",
    "        estimator= grid_pipe, cv=cv,\n",
    "        param_grid=dicc_grid, scoring=scoring, n_jobs=-1)\n",
    "\n",
    "    \n",
    "    grid.fit(X, y.values.ravel())\n",
    "\n",
    "    #Imprimimos resultados\n",
    "    print('Mejor valor de exactitud obtenido con la mejor combinación:', grid.best_score_)\n",
    "    print('Mejor combinación de valores encontrados de los hiperparámetros:', grid.best_params_)\n",
    "    print('Métrica utilizada:', grid.scoring)\n",
    "\n",
    "    return grid"
   ],
   "metadata": {
    "id": "EBKcp0278IQV",
    "executionInfo": {
     "status": "ok",
     "timestamp": 1666843170290,
     "user_tz": 300,
     "elapsed": 146,
     "user": {
      "displayName": "Chris S",
      "userId": "13607368405853157489"
     }
    }
   },
   "execution_count": 36,
   "outputs": []
  },
  {
   "cell_type": "code",
   "source": [
    "#Diccionario con diferente valores de hiperparametros para el modelo RL\n",
    "#dicc_grid = {\"model__hidden_layer_sizes\":np.linspace(1, 100, 10) ,\"model__alpha\": [0.001, 0.0001, 0.00001], \"model__learning_rate_init\":np.linspace(0.0001, 100, 1)}\n",
    "dicc_grid = {\"model__hidden_layer_sizes\":np.linspace(1, 50, 10,dtype=int),\n",
    "             \"model__alpha\": [0.00001, 0.1,20], \"model__learning_rate_init\": np.linspace(0.00001, 1, 10)}\n",
    "\n",
    "grid_MLP = do_grid_search(modelos[2], X_train, y_train, Kfold, dicc_grid, make_scorer(mi_MAPE))"
   ],
   "metadata": {
    "id": "vp8S0PFs8IMR",
    "colab": {
     "base_uri": "https://localhost:8080/"
    },
    "executionInfo": {
     "status": "ok",
     "timestamp": 1666844289646,
     "user_tz": 300,
     "elapsed": 217999,
     "user": {
      "displayName": "Chris S",
      "userId": "13607368405853157489"
     }
    },
    "outputId": "7c4ba74b-f457-4bf9-9c08-641182a808e5"
   },
   "execution_count": 37,
   "outputs": [
    {
     "name": "stdout",
     "output_type": "stream",
     "text": [
      "Mejor valor de exactitud obtenido con la mejor combinación: 185.9525548300083\n",
      "Mejor combinación de valores encontrados de los hiperparámetros: {'model__alpha': 1e-05, 'model__hidden_layer_sizes': 6, 'model__learning_rate_init': 0.11112}\n",
      "Métrica utilizada: make_scorer(mi_MAPE)\n"
     ]
    }
   ]
  },
  {
   "cell_type": "markdown",
   "source": [
    "#**Ejercicio-9.**"
   ],
   "metadata": {
    "id": "mASNrZWs8JTh"
   }
  },
  {
   "cell_type": "code",
   "execution_count": 38,
   "outputs": [],
   "source": [
    "modelo_MLP = MLPRegressor(hidden_layer_sizes=(6),\n",
    "                            max_iter=5000,\n",
    "                            alpha=0.000001,\n",
    "                            learning_rate_init=0.11112)\n",
    "XtrainFit = cT.fit(X_train)\n",
    "\n",
    "XtrainTransf = XtrainFit.transform(X_train)\n",
    "\n",
    "modelo_MLP.fit(XtrainTransf, y_train)\n",
    "\n",
    "importance = permutation_importance(modelo_MLP, XtrainTransf, y_train, n_repeats=10)"
   ],
   "metadata": {
    "collapsed": false
   }
  },
  {
   "cell_type": "code",
   "execution_count": 39,
   "outputs": [
    {
     "name": "stdout",
     "output_type": "stream",
     "text": [
      "Feature: 0, Score: 0.01114\n",
      "Feature: 1, Score: 0.01431\n",
      "Feature: 2, Score: 0.47959\n",
      "Feature: 3, Score: 0.01071\n",
      "Feature: 4, Score: 0.03341\n",
      "Feature: 5, Score: 0.01161\n",
      "Feature: 6, Score: 0.02949\n",
      "Feature: 7, Score: 0.05340\n",
      "Feature: 8, Score: 0.00267\n",
      "Feature: 9, Score: 0.00215\n"
     ]
    },
    {
     "data": {
      "text/plain": "<Figure size 800x400 with 1 Axes>",
      "image/png": "[encoded data removed]"
     },
     "metadata": {},
     "output_type": "display_data"
    }
   ],
   "source": [
    "# Una vez inicializado y entrenada la MLP, veamos qué factores considera más importantes:\n",
    "\n",
    "\n",
    "\n",
    "# visualicemos la importancia de cada métrica, de las cuales sabemos\n",
    "# cuáles son las más importantes, de acuerdo a como se definieron al inicio:\n",
    "\n",
    "for i,v in enumerate(importance['importances_mean']):\n",
    "\tprint('Feature: %0d, Score: %.5f' % (i,v))\n",
    "\n",
    "plt.bar([x for x in range(len(importance['importances_mean']))], importance['importances_mean'])\n",
    "plt.show()"
   ],
   "metadata": {
    "collapsed": false
   }
  },
  {
   "cell_type": "code",
   "source": [],
   "metadata": {
    "id": "Xr6oe1VF8K_A"
   },
   "execution_count": 39,
   "outputs": []
  },
  {
   "cell_type": "markdown",
   "source": [
    "#**Ejercicio-10.**"
   ],
   "metadata": {
    "id": "VUIcDshs8MzG"
   }
  },
  {
   "cell_type": "code",
   "source": [
    "dicc_grid = {'model__ccp_alpha':[0],\n",
    "             'model__criterion':['gini', 'entropy'],\n",
    "             'model__max_depth':[None,1,2,3,4,5,10,11,12],\n",
    "             'model__n_estimators': np.linspace(100, 500, 5,dtype=int),\n",
    "             'model__class_weight':['balanced','balanced_subsample',None]}\n",
    "\n",
    "grid_BA = do_grid_search(modelos[1], X_train, y_train, Kfold, dicc_grid, make_scorer(mi_MAPE))"
   ],
   "metadata": {
    "id": "0lKNJNIt8N88"
   },
   "execution_count": 40,
   "outputs": [
    {
     "name": "stdout",
     "output_type": "stream",
     "text": [
      "Mejor valor de exactitud obtenido con la mejor combinación: 231.3610158208739\n",
      "Mejor combinación de valores encontrados de los hiperparámetros: {'model__ccp_alpha': 0, 'model__class_weight': 'balanced', 'model__criterion': 'entropy', 'model__max_depth': 1, 'model__n_estimators': 200}\n",
      "Métrica utilizada: make_scorer(mi_MAPE)\n"
     ]
    }
   ]
  },
  {
   "cell_type": "markdown",
   "source": [
    "## el soplit optimo es 2 siempre"
   ],
   "metadata": {
    "collapsed": false
   }
  },
  {
   "cell_type": "code",
   "source": [
    "modelo_MLP = RandomForestClassifier(ccp_alpha=0,class_weight=\"balanced\",criterion=\"entropy\",max_depth=1,min_samples_split=2,n_estimators=100,n_jobs=-1)\n",
    "XtrainFit = cT.fit(X_train)\n",
    "\n",
    "XtrainTransf = XtrainFit.transform(X_train)\n",
    "\n",
    "modelo_MLP.fit(XtrainTransf, y_train)\n",
    "\n",
    "importance = permutation_importance(modelo_MLP, XtrainTransf, y_train, n_repeats=10)"
   ],
   "metadata": {
    "id": "Inkq5YQe8PED"
   },
   "execution_count": 41,
   "outputs": []
  },
  {
   "cell_type": "code",
   "execution_count": 42,
   "outputs": [
    {
     "name": "stdout",
     "output_type": "stream",
     "text": [
      "Feature: 0, Score: 0.02333\n",
      "Feature: 1, Score: 0.00000\n",
      "Feature: 2, Score: 0.00000\n",
      "Feature: 3, Score: 0.00000\n",
      "Feature: 4, Score: 0.02300\n",
      "Feature: 5, Score: 0.01200\n",
      "Feature: 6, Score: 0.00867\n",
      "Feature: 7, Score: 0.04433\n",
      "Feature: 8, Score: 0.04767\n",
      "Feature: 9, Score: 0.04467\n"
     ]
    },
    {
     "data": {
      "text/plain": "<Figure size 800x400 with 1 Axes>",
      "image/png": "[encoded data removed]"
     },
     "metadata": {},
     "output_type": "display_data"
    }
   ],
   "source": [
    "for i,v in enumerate(importance['importances_mean']):\n",
    "\tprint('Feature: %0d, Score: %.5f' % (i,v))\n",
    "\n",
    "plt.bar([x for x in range(len(importance['importances_mean']))], importance['importances_mean'])\n",
    "plt.show()"
   ],
   "metadata": {
    "collapsed": false
   }
  },
  {
   "cell_type": "markdown",
   "source": [
    "#**Ejercicio-11.**"
   ],
   "metadata": {
    "id": "5LJl6oql8Pc8"
   }
  },
  {
   "cell_type": "code",
   "source": [
    "dicc_grid = {'model__fit_intercept':[True,False],\n",
    "             'model__normalize':[True,False],\n",
    "             'model__copy_X':[True,False],\n",
    "             'model__positive':[True,False]\n",
    "             }\n",
    "\n",
    "grid_LR = do_grid_search(modelos[0], X_train, y_train, Kfold, dicc_grid, make_scorer(mi_MAPE))"
   ],
   "metadata": {
    "id": "-YiSnt9t8RfN"
   },
   "execution_count": 43,
   "outputs": [
    {
     "name": "stdout",
     "output_type": "stream",
     "text": [
      "Mejor valor de exactitud obtenido con la mejor combinación: 127.53256283334602\n",
      "Mejor combinación de valores encontrados de los hiperparámetros: {'model__copy_X': True, 'model__fit_intercept': True, 'model__normalize': True, 'model__positive': True}\n",
      "Métrica utilizada: make_scorer(mi_MAPE)\n"
     ]
    },
    {
     "name": "stderr",
     "output_type": "stream",
     "text": [
      "C:\\Users\\oviwa\\AppData\\Local\\Programs\\Python\\Python310\\lib\\site-packages\\sklearn\\linear_model\\_base.py:141: FutureWarning: 'normalize' was deprecated in version 1.0 and will be removed in 1.2.\n",
      "If you wish to scale the data, use Pipeline with a StandardScaler in a preprocessing stage. To reproduce the previous behavior:\n",
      "\n",
      "from sklearn.pipeline import make_pipeline\n",
      "\n",
      "model = make_pipeline(StandardScaler(with_mean=False), LinearRegression())\n",
      "\n",
      "If you wish to pass a sample_weight parameter, you need to pass it as a fit parameter to each step of the pipeline as follows:\n",
      "\n",
      "kwargs = {s[0] + '__sample_weight': sample_weight for s in model.steps}\n",
      "model.fit(X, y, **kwargs)\n",
      "\n",
      "\n",
      "  warnings.warn(\n"
     ]
    }
   ]
  },
  {
   "cell_type": "code",
   "source": [
    "modelo_MLP = LinearRegression(copy_X=True,fit_intercept=True,positive=True)\n",
    "XtrainFit = cT.fit(X_train)\n",
    "\n",
    "XtrainTransf = XtrainFit.transform(X_train)\n",
    "\n",
    "modelo_MLP.fit(XtrainTransf, y_train)\n",
    "\n",
    "importance = permutation_importance(modelo_MLP, XtrainTransf, y_train, n_repeats=10)"
   ],
   "metadata": {
    "id": "2iRA78ZC8Rbm"
   },
   "execution_count": 44,
   "outputs": []
  },
  {
   "cell_type": "code",
   "execution_count": 45,
   "outputs": [
    {
     "name": "stdout",
     "output_type": "stream",
     "text": [
      "Feature: 0, Score: 0.00000\n",
      "Feature: 1, Score: 0.07098\n",
      "Feature: 2, Score: 0.96614\n",
      "Feature: 3, Score: 0.01995\n",
      "Feature: 4, Score: 0.00004\n",
      "Feature: 5, Score: 0.00000\n",
      "Feature: 6, Score: 0.00578\n",
      "Feature: 7, Score: 0.00000\n",
      "Feature: 8, Score: 0.00000\n",
      "Feature: 9, Score: 0.00157\n"
     ]
    },
    {
     "data": {
      "text/plain": "<Figure size 800x400 with 1 Axes>",
      "image/png": "[encoded data removed]"
     },
     "metadata": {},
     "output_type": "display_data"
    }
   ],
   "source": [
    "for i,v in enumerate(importance['importances_mean']):\n",
    "\tprint('Feature: %0d, Score: %.5f' % (i,v))\n",
    "\n",
    "plt.bar([x for x in range(len(importance['importances_mean']))], importance['importances_mean'])\n",
    "plt.show()"
   ],
   "metadata": {
    "collapsed": false
   }
  },
  {
   "cell_type": "markdown",
   "source": [
    "#**Ejercicio-12.**"
   ],
   "metadata": {
    "id": "IKW72uyk8Sbc"
   }
  },
  {
   "cell_type": "code",
   "source": [
    "None"
   ],
   "metadata": {
    "id": "gwpz77W38Uq0"
   },
   "execution_count": null,
   "outputs": []
  },
  {
   "cell_type": "code",
   "source": [],
   "metadata": {
    "id": "8v8HL02W8UmW"
   },
   "execution_count": null,
   "outputs": []
  },
  {
   "cell_type": "markdown",
   "source": [
    "###**Fin de la Actividad de la semana 7.**"
   ],
   "metadata": {
    "id": "7ql_r2G-DB_m"
   }
  }
 ]
}
